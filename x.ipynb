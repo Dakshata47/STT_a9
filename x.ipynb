{
 "cells": [
  {
   "cell_type": "code",
   "execution_count": null,
   "id": "b7b2357d",
   "metadata": {},
   "outputs": [],
   "source": [
    "import mlrun\n",
    "from sklearn.datasets import load_breast_cancer\n",
    "\n",
    "no_k8s = False if mlrun.mlconf.namespace else True"
   ]
  },
  {
   "cell_type": "code",
   "execution_count": null,
   "id": "3ccd8d3b",
   "metadata": {},
   "outputs": [],
   "source": [
    "project = mlrun.get_or_create_project(\"sta-lab9\", context=\"./\")"
   ]
  },
  {
   "cell_type": "code",
   "execution_count": null,
   "metadata": {},
   "outputs": [],
   "source": [
    "project.set_function(\"data_prep.py\", \"data-prep\", image=\"mlrun/mlrun\")\n",
    "project.set_function(\"trainer.py\", \"trainer\", handler=\"train\", image=\"mlrun/mlrun\")\n",
    "project.set_function(\"serving.py\", \"serving\", image=\"mlrun/mlrun\", kind=\"serving\")\n",
    "project.save()"
   ]
  },
  {
   "cell_type": "code",
   "execution_count": null,
   "id": "7fbd80be",
   "metadata": {},
   "outputs": [],
   "source": [
    "gen_data_run = project.run_function(\"data-prep\", params={\"format\": \"csv\"}, local=True)\n",
    "print(\"Data-prep run state:\", gen_data_run.state())\n",
    "print(\"Data-prep outputs:\", gen_data_run.outputs)\n",
    "\n",
    "# Display the first few rows of the dataset logged in the \"dataset\" artifact\n",
    "df = gen_data_run.artifact(\"dataset\").as_df()\n",
    "print(\"Dataset preview:\")\n",
    "print(df.head())"
   ]
  },
  {
   "cell_type": "code",
   "execution_count": null,
   "id": "93be064f",
   "metadata": {},
   "outputs": [],
   "source": [
    "describe = mlrun.import_function('hub://describe')\n",
    "describe_run = describe.run(\n",
    "    name=\"task-describe\",\n",
    "    handler='analyze',\n",
    "    inputs={\"table\": gen_data_run.outputs[\"dataset\"]},\n",
    "    params={\"label_column\": \"label\"},\n",
    "    local=False\n",
    ")\n",
    "print(\"Describe function outputs:\", describe_run.outputs)\n",
    "describe_run.artifact(\"histograms\").show()\n",
    "describe_run.artifact(\"correlation\").show()"
   ]
  },
  {
   "cell_type": "code",
   "execution_count": null,
   "id": "0f4b35d9",
   "metadata": {},
   "outputs": [],
   "source": [
    "trainer_run = project.run_function(\n",
    "    'trainer',\n",
    "    inputs={\"dataset\": gen_data_run.outputs[\"dataset\"]},\n",
    "    params={\"n_estimators\": 100, \"learning_rate\": 1e-1, \"max_depth\": 5},\n",
    "    local=True\n",
    ")\n",
    "print(\"Trainer run outputs:\", trainer_run.outputs)\n",
    "trainer_run.artifact(\"confusion-matrix\").show()\n",
    "trainer_run.artifact(\"feature-importance\").show()"
   ]
  },
  {
   "cell_type": "code",
   "execution_count": null,
   "id": "aeb579d8",
   "metadata": {},
   "outputs": [],
   "source": [
    "# Step 4: Hyperparameter Tuning\n",
    "hp_tuning_run = project.run_function(\n",
    "    \"trainer\",\n",
    "    inputs={\"dataset\": gen_data_run.outputs[\"dataset\"]},\n",
    "    hyperparams={\n",
    "        \"n_estimators\": [10, 100, 200],\n",
    "        \"max_depth\": [2, 5, 10]\n",
    "    },\n",
    "    selector=\"max.accuracy\",\n",
    "    local=False\n",
    ")\n",
    "print(\"Hyperparameter tuning outputs:\", hp_tuning_run.outputs)\n",
    "hp_tuning_run.artifact('parallel_coordinates').show()"
   ]
  },
  {
   "cell_type": "code",
   "execution_count": null,
   "id": "028fba18",
   "metadata": {},
   "outputs": [],
   "source": [
    "models = project.list_models()\n",
    "for model in models:\n",
    "    print(f\"Model URI: {model.uri}, Metrics: {model.metrics}\")\n",
    "\n",
    "print(\"\\nComparing trainer runs:\")\n",
    "project.list_runs(name=\"trainer-train\", iter=True).compare()"
   ]
  },
  {
   "cell_type": "code",
   "execution_count": null,
   "id": "06a4f967",
   "metadata": {},
   "outputs": [],
   "source": [
    "serving_fn = mlrun.code_to_function(\"serving\", filename=\"serving.py\", image=\"mlrun/mlrun\", kind=\"serving\")\n",
    "serving_fn.add_model(\"rf-model\", model_path=hp_tuning_run.outputs[\"model\"], class_name=\"RFModel\")\n",
    "serving_fn.spec.graph.plot()\n"
   ]
  },
  {
   "cell_type": "code",
   "execution_count": null,
   "id": "85eed28b",
   "metadata": {},
   "outputs": [],
   "source": [
    "serving_fn.spec.build.registry = \"index.docker.io/dakshata123\"\n",
    "serving_fn.spec.build.secret = \"registry-credentials\"\n",
    "\n",
    "mlrun.deploy_function(serving_fn)\n",
    "print(\"Model deployed successfully.\")"
   ]
  },
  {
   "cell_type": "code",
   "execution_count": null,
   "id": "b393e729",
   "metadata": {},
   "outputs": [],
   "source": [
    "data = load_breast_cancer(as_frame=True)\n",
    "sample_inputs = data.frame.drop(columns=[\"target\"]).iloc[:3].values.tolist()\n",
    "my_data = {\"inputs\": sample_inputs}\n",
    "response = serving_fn.invoke(\"/v2/models/rf-model/infer\", body=my_data)\n",
    "print(\"Predictions from the deployed model:\", response)"
   ]
  },
  {
   "cell_type": "code",
   "execution_count": null,
   "id": "0fec7bc6",
   "metadata": {},
   "outputs": [],
   "source": [
    "run_id = project.run(\n",
    "    workflow_path=\"workflow.py\",\n",
    "    arguments={\"model_name\": \"rf-model\"},\n",
    "    watch=True,\n",
    "    local=no_k8s\n",
    ")\n",
    "print(\"Workflow run id:\", run_id.id)"
   ]
  }
 ],
 "metadata": {
  "language_info": {
   "name": "python"
  }
 },
 "nbformat": 4,
 "nbformat_minor": 5
}
